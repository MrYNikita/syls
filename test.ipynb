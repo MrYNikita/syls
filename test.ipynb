{
 "cells": [
  {
   "cell_type": "code",
   "execution_count": 10,
   "metadata": {
    "vscode": {
     "languageId": "javascript"
    }
   },
   "outputs": [
    {
     "name": "stdout",
     "output_type": "stream",
     "text": [
      "0.840\n"
     ]
    }
   ],
   "source": [
    "%%script node\n",
    "\n",
    "// Веса сети\n",
    "const U = [\n",
    "    [0.3, 0.4],\n",
    "    [0.2, 0.5]\n",
    "];\n",
    "const W = [\n",
    "    [0.1, 0.3],\n",
    "    [0.7, 0.8]\n",
    "];\n",
    "const V = [\n",
    "    [0.3, 0.1],\n",
    "    [0.3, 0.1]\n",
    "];\n",
    "\n",
    "// Начальное состояние\n",
    "let s = [0, 0];\n",
    "\n",
    "// Входные данные\n",
    "const x1 = [1, 3];\n",
    "const x2 = [1, 1];\n",
    "\n",
    "// Функция активации ReLU\n",
    "function relu(x) {\n",
    "    return Math.max(0, x);\n",
    "}\n",
    "\n",
    "// Прямое распространение (forward pass)\n",
    "function forwardPass(x, weights) {\n",
    "    const a = [];\n",
    "    for (let i = 0; i < weights[0].length; i++) {\n",
    "        let sum = 0;\n",
    "        for (let j = 0; j < weights.length; j++) {\n",
    "            sum += x[j] * weights[j][i];\n",
    "        }\n",
    "        a.push(relu(sum));\n",
    "    }\n",
    "    return a;\n",
    "}\n",
    "\n",
    "// Выполняем прямое распространение для x1 и x2\n",
    "const a1_1 = forwardPass(x1, U);\n",
    "const a1_2 = forwardPass(a1_1, V);\n",
    "const a2_1 = forwardPass(x2, U);\n",
    "const a2_2 = forwardPass(a2_1, V);\n",
    "\n",
    "// Находим максимум из a1^{(2)} и a2^{(2)}\n",
    "const maxResult = Math.max(a1_2[0], a1_2[1], a2_2[0], a2_2[1]);\n",
    "\n",
    "// Выводим результат с округлением до 3 знаков после запятой\n",
    "console.log(maxResult.toFixed(3));\n"
   ]
  }
 ],
 "metadata": {
  "kernelspec": {
   "display_name": "Python 3",
   "language": "python",
   "name": "python3"
  },
  "language_info": {
   "codemirror_mode": {
    "name": "ipython",
    "version": 3
   },
   "file_extension": ".py",
   "mimetype": "text/x-python",
   "name": "python",
   "nbconvert_exporter": "python",
   "pygments_lexer": "ipython3",
   "version": "3.11.3"
  }
 },
 "nbformat": 4,
 "nbformat_minor": 2
}
